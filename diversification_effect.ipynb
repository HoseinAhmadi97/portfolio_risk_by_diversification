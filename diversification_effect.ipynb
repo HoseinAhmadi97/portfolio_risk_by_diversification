{
 "cells": [
  {
   "cell_type": "code",
   "execution_count": 1,
   "metadata": {},
   "outputs": [],
   "source": [
    "import pytse_client as tse\n",
    "import pandas as pd\n",
    "import numpy as np\n",
    "import random\n",
    "import plotly.express as px"
   ]
  },
  {
   "attachments": {},
   "cell_type": "markdown",
   "metadata": {},
   "source": [
    "# 1. get data"
   ]
  },
  {
   "cell_type": "code",
   "execution_count": 2,
   "metadata": {},
   "outputs": [],
   "source": [
    "tickers = tse.download(symbols=\"all\", write_to_csv=False)"
   ]
  },
  {
   "cell_type": "code",
   "execution_count": 3,
   "metadata": {},
   "outputs": [],
   "source": [
    "price_panel = pd.DataFrame()\n",
    "for ticker in list(tickers.keys()):\n",
    "    df = tickers[ticker]\n",
    "    try:\n",
    "        first_year = df['date'].iloc[0].year\n",
    "        last_year = df['date'].iloc[-1].year\n",
    "        if ticker[-1] == 'ح':\n",
    "            continue\n",
    "        if ((last_year==2023) & ((last_year - first_year) >10)):\n",
    "            return_series_monthly = df.set_index('date').resample('1M').last()['adjClose'].pct_change()\n",
    "            return_series_monthly_df = pd.DataFrame(return_series_monthly.rename(ticker))\n",
    "            price_panel = pd.concat([price_panel, return_series_monthly_df], axis =1)\n",
    "    except:\n",
    "        continue"
   ]
  },
  {
   "cell_type": "code",
   "execution_count": 4,
   "metadata": {},
   "outputs": [
    {
     "data": {
      "text/html": [
       "<div>\n",
       "<style scoped>\n",
       "    .dataframe tbody tr th:only-of-type {\n",
       "        vertical-align: middle;\n",
       "    }\n",
       "\n",
       "    .dataframe tbody tr th {\n",
       "        vertical-align: top;\n",
       "    }\n",
       "\n",
       "    .dataframe thead th {\n",
       "        text-align: right;\n",
       "    }\n",
       "</style>\n",
       "<table border=\"1\" class=\"dataframe\">\n",
       "  <thead>\n",
       "    <tr style=\"text-align: right;\">\n",
       "      <th></th>\n",
       "      <th>پشاهن</th>\n",
       "      <th>پلاست</th>\n",
       "      <th>شلعاب</th>\n",
       "      <th>فاما</th>\n",
       "      <th>فلوله</th>\n",
       "      <th>شتهران</th>\n",
       "      <th>غنوش</th>\n",
       "      <th>بکام</th>\n",
       "      <th>فوکا</th>\n",
       "      <th>تمحرکه</th>\n",
       "      <th>...</th>\n",
       "      <th>کبافق</th>\n",
       "      <th>ودی</th>\n",
       "      <th>وتوکا</th>\n",
       "      <th>سکرد</th>\n",
       "      <th>پکرمان</th>\n",
       "      <th>وغدیر</th>\n",
       "      <th>ولساپا</th>\n",
       "      <th>وصنا</th>\n",
       "      <th>خلنت</th>\n",
       "      <th>غاذر</th>\n",
       "    </tr>\n",
       "    <tr>\n",
       "      <th>date</th>\n",
       "      <th></th>\n",
       "      <th></th>\n",
       "      <th></th>\n",
       "      <th></th>\n",
       "      <th></th>\n",
       "      <th></th>\n",
       "      <th></th>\n",
       "      <th></th>\n",
       "      <th></th>\n",
       "      <th></th>\n",
       "      <th></th>\n",
       "      <th></th>\n",
       "      <th></th>\n",
       "      <th></th>\n",
       "      <th></th>\n",
       "      <th></th>\n",
       "      <th></th>\n",
       "      <th></th>\n",
       "      <th></th>\n",
       "      <th></th>\n",
       "      <th></th>\n",
       "    </tr>\n",
       "  </thead>\n",
       "  <tbody>\n",
       "    <tr>\n",
       "      <th>2011-03-31</th>\n",
       "      <td>0.020818</td>\n",
       "      <td>0.000000</td>\n",
       "      <td>0.055297</td>\n",
       "      <td>0.042198</td>\n",
       "      <td>0.016783</td>\n",
       "      <td>1.118592</td>\n",
       "      <td>0.002609</td>\n",
       "      <td>0.449791</td>\n",
       "      <td>0.000000</td>\n",
       "      <td>0.050118</td>\n",
       "      <td>...</td>\n",
       "      <td>0.000000</td>\n",
       "      <td>0.038623</td>\n",
       "      <td>0.403380</td>\n",
       "      <td>-0.035107</td>\n",
       "      <td>-0.024934</td>\n",
       "      <td>0.245639</td>\n",
       "      <td>0.529985</td>\n",
       "      <td>-0.009350</td>\n",
       "      <td>0.000000</td>\n",
       "      <td>0.073421</td>\n",
       "    </tr>\n",
       "    <tr>\n",
       "      <th>2011-04-30</th>\n",
       "      <td>0.002185</td>\n",
       "      <td>0.000000</td>\n",
       "      <td>-0.011019</td>\n",
       "      <td>0.043111</td>\n",
       "      <td>0.009654</td>\n",
       "      <td>-0.004373</td>\n",
       "      <td>0.000000</td>\n",
       "      <td>-0.088384</td>\n",
       "      <td>0.000000</td>\n",
       "      <td>-0.249887</td>\n",
       "      <td>...</td>\n",
       "      <td>0.000000</td>\n",
       "      <td>-0.079749</td>\n",
       "      <td>-0.071859</td>\n",
       "      <td>0.029795</td>\n",
       "      <td>-0.094213</td>\n",
       "      <td>-0.451881</td>\n",
       "      <td>-0.114617</td>\n",
       "      <td>-0.026899</td>\n",
       "      <td>0.016115</td>\n",
       "      <td>0.182152</td>\n",
       "    </tr>\n",
       "    <tr>\n",
       "      <th>2011-05-31</th>\n",
       "      <td>0.000000</td>\n",
       "      <td>0.048701</td>\n",
       "      <td>-0.237435</td>\n",
       "      <td>-0.049148</td>\n",
       "      <td>-0.095312</td>\n",
       "      <td>-0.068814</td>\n",
       "      <td>0.000000</td>\n",
       "      <td>0.050257</td>\n",
       "      <td>-0.003111</td>\n",
       "      <td>-0.252701</td>\n",
       "      <td>...</td>\n",
       "      <td>0.479626</td>\n",
       "      <td>0.095910</td>\n",
       "      <td>-0.062716</td>\n",
       "      <td>0.013771</td>\n",
       "      <td>-0.002229</td>\n",
       "      <td>0.234403</td>\n",
       "      <td>0.079271</td>\n",
       "      <td>0.043162</td>\n",
       "      <td>0.006678</td>\n",
       "      <td>0.118001</td>\n",
       "    </tr>\n",
       "    <tr>\n",
       "      <th>2011-06-30</th>\n",
       "      <td>0.000727</td>\n",
       "      <td>0.036378</td>\n",
       "      <td>0.026948</td>\n",
       "      <td>0.109545</td>\n",
       "      <td>-0.033754</td>\n",
       "      <td>0.000000</td>\n",
       "      <td>0.000000</td>\n",
       "      <td>-0.044461</td>\n",
       "      <td>-0.180339</td>\n",
       "      <td>0.127711</td>\n",
       "      <td>...</td>\n",
       "      <td>0.277552</td>\n",
       "      <td>0.000000</td>\n",
       "      <td>-0.154130</td>\n",
       "      <td>0.134193</td>\n",
       "      <td>-0.148920</td>\n",
       "      <td>-0.069314</td>\n",
       "      <td>-0.069006</td>\n",
       "      <td>0.112971</td>\n",
       "      <td>0.055556</td>\n",
       "      <td>-0.459469</td>\n",
       "    </tr>\n",
       "    <tr>\n",
       "      <th>2011-07-31</th>\n",
       "      <td>0.000000</td>\n",
       "      <td>-0.007468</td>\n",
       "      <td>0.068606</td>\n",
       "      <td>-0.006617</td>\n",
       "      <td>0.042696</td>\n",
       "      <td>-0.159198</td>\n",
       "      <td>0.000000</td>\n",
       "      <td>0.007492</td>\n",
       "      <td>-0.058744</td>\n",
       "      <td>-0.061966</td>\n",
       "      <td>...</td>\n",
       "      <td>-0.687768</td>\n",
       "      <td>0.000000</td>\n",
       "      <td>0.141844</td>\n",
       "      <td>-0.090370</td>\n",
       "      <td>0.006999</td>\n",
       "      <td>0.043186</td>\n",
       "      <td>-0.182281</td>\n",
       "      <td>-0.119048</td>\n",
       "      <td>0.238020</td>\n",
       "      <td>0.462938</td>\n",
       "    </tr>\n",
       "    <tr>\n",
       "      <th>...</th>\n",
       "      <td>...</td>\n",
       "      <td>...</td>\n",
       "      <td>...</td>\n",
       "      <td>...</td>\n",
       "      <td>...</td>\n",
       "      <td>...</td>\n",
       "      <td>...</td>\n",
       "      <td>...</td>\n",
       "      <td>...</td>\n",
       "      <td>...</td>\n",
       "      <td>...</td>\n",
       "      <td>...</td>\n",
       "      <td>...</td>\n",
       "      <td>...</td>\n",
       "      <td>...</td>\n",
       "      <td>...</td>\n",
       "      <td>...</td>\n",
       "      <td>...</td>\n",
       "      <td>...</td>\n",
       "      <td>...</td>\n",
       "      <td>...</td>\n",
       "    </tr>\n",
       "    <tr>\n",
       "      <th>2022-11-30</th>\n",
       "      <td>-0.181096</td>\n",
       "      <td>0.045812</td>\n",
       "      <td>0.230604</td>\n",
       "      <td>0.164902</td>\n",
       "      <td>0.276205</td>\n",
       "      <td>0.080674</td>\n",
       "      <td>0.094667</td>\n",
       "      <td>0.207516</td>\n",
       "      <td>-0.062359</td>\n",
       "      <td>-0.068071</td>\n",
       "      <td>...</td>\n",
       "      <td>0.199326</td>\n",
       "      <td>0.400570</td>\n",
       "      <td>0.234628</td>\n",
       "      <td>0.152672</td>\n",
       "      <td>0.335030</td>\n",
       "      <td>0.218487</td>\n",
       "      <td>0.086344</td>\n",
       "      <td>0.189057</td>\n",
       "      <td>0.209841</td>\n",
       "      <td>0.185323</td>\n",
       "    </tr>\n",
       "    <tr>\n",
       "      <th>2022-12-31</th>\n",
       "      <td>0.121242</td>\n",
       "      <td>0.315394</td>\n",
       "      <td>0.134821</td>\n",
       "      <td>0.137662</td>\n",
       "      <td>0.122302</td>\n",
       "      <td>0.101723</td>\n",
       "      <td>0.105968</td>\n",
       "      <td>0.154939</td>\n",
       "      <td>0.056090</td>\n",
       "      <td>0.114783</td>\n",
       "      <td>...</td>\n",
       "      <td>0.153754</td>\n",
       "      <td>0.116889</td>\n",
       "      <td>0.132372</td>\n",
       "      <td>0.134106</td>\n",
       "      <td>-0.007624</td>\n",
       "      <td>0.191223</td>\n",
       "      <td>0.165450</td>\n",
       "      <td>0.035333</td>\n",
       "      <td>0.158293</td>\n",
       "      <td>-0.070435</td>\n",
       "    </tr>\n",
       "    <tr>\n",
       "      <th>2023-01-31</th>\n",
       "      <td>0.141003</td>\n",
       "      <td>-0.019981</td>\n",
       "      <td>0.164103</td>\n",
       "      <td>-0.025114</td>\n",
       "      <td>0.099893</td>\n",
       "      <td>0.019360</td>\n",
       "      <td>-0.034141</td>\n",
       "      <td>0.352665</td>\n",
       "      <td>-0.112291</td>\n",
       "      <td>0.198128</td>\n",
       "      <td>...</td>\n",
       "      <td>-0.028532</td>\n",
       "      <td>-0.107490</td>\n",
       "      <td>-0.082176</td>\n",
       "      <td>-0.094891</td>\n",
       "      <td>0.137004</td>\n",
       "      <td>-0.047368</td>\n",
       "      <td>-0.021573</td>\n",
       "      <td>-0.060317</td>\n",
       "      <td>-0.006540</td>\n",
       "      <td>0.069981</td>\n",
       "    </tr>\n",
       "    <tr>\n",
       "      <th>2023-02-28</th>\n",
       "      <td>-0.037908</td>\n",
       "      <td>0.008738</td>\n",
       "      <td>0.102790</td>\n",
       "      <td>0.093677</td>\n",
       "      <td>0.066051</td>\n",
       "      <td>-0.696859</td>\n",
       "      <td>0.072976</td>\n",
       "      <td>0.138588</td>\n",
       "      <td>0.100000</td>\n",
       "      <td>-0.135417</td>\n",
       "      <td>...</td>\n",
       "      <td>0.070917</td>\n",
       "      <td>-0.106600</td>\n",
       "      <td>0.392182</td>\n",
       "      <td>0.145161</td>\n",
       "      <td>0.145833</td>\n",
       "      <td>0.236464</td>\n",
       "      <td>0.052632</td>\n",
       "      <td>0.110642</td>\n",
       "      <td>0.030146</td>\n",
       "      <td>-0.068336</td>\n",
       "    </tr>\n",
       "    <tr>\n",
       "      <th>2023-03-31</th>\n",
       "      <td>0.056738</td>\n",
       "      <td>0.095284</td>\n",
       "      <td>0.209055</td>\n",
       "      <td>0.092077</td>\n",
       "      <td>0.219134</td>\n",
       "      <td>0.057831</td>\n",
       "      <td>0.145590</td>\n",
       "      <td>0.311906</td>\n",
       "      <td>0.086247</td>\n",
       "      <td>0.024096</td>\n",
       "      <td>...</td>\n",
       "      <td>0.047492</td>\n",
       "      <td>0.155116</td>\n",
       "      <td>-0.001812</td>\n",
       "      <td>0.139437</td>\n",
       "      <td>0.091892</td>\n",
       "      <td>0.101877</td>\n",
       "      <td>0.112162</td>\n",
       "      <td>-0.331939</td>\n",
       "      <td>0.147326</td>\n",
       "      <td>-0.000484</td>\n",
       "    </tr>\n",
       "  </tbody>\n",
       "</table>\n",
       "<p>145 rows × 330 columns</p>\n",
       "</div>"
      ],
      "text/plain": [
       "               پشاهن     پلاست     شلعاب      فاما     فلوله    شتهران  \\\n",
       "date                                                                     \n",
       "2011-03-31  0.020818  0.000000  0.055297  0.042198  0.016783  1.118592   \n",
       "2011-04-30  0.002185  0.000000 -0.011019  0.043111  0.009654 -0.004373   \n",
       "2011-05-31  0.000000  0.048701 -0.237435 -0.049148 -0.095312 -0.068814   \n",
       "2011-06-30  0.000727  0.036378  0.026948  0.109545 -0.033754  0.000000   \n",
       "2011-07-31  0.000000 -0.007468  0.068606 -0.006617  0.042696 -0.159198   \n",
       "...              ...       ...       ...       ...       ...       ...   \n",
       "2022-11-30 -0.181096  0.045812  0.230604  0.164902  0.276205  0.080674   \n",
       "2022-12-31  0.121242  0.315394  0.134821  0.137662  0.122302  0.101723   \n",
       "2023-01-31  0.141003 -0.019981  0.164103 -0.025114  0.099893  0.019360   \n",
       "2023-02-28 -0.037908  0.008738  0.102790  0.093677  0.066051 -0.696859   \n",
       "2023-03-31  0.056738  0.095284  0.209055  0.092077  0.219134  0.057831   \n",
       "\n",
       "                غنوش      بکام      فوکا    تمحرکه  ...     کبافق       ودی  \\\n",
       "date                                                ...                       \n",
       "2011-03-31  0.002609  0.449791  0.000000  0.050118  ...  0.000000  0.038623   \n",
       "2011-04-30  0.000000 -0.088384  0.000000 -0.249887  ...  0.000000 -0.079749   \n",
       "2011-05-31  0.000000  0.050257 -0.003111 -0.252701  ...  0.479626  0.095910   \n",
       "2011-06-30  0.000000 -0.044461 -0.180339  0.127711  ...  0.277552  0.000000   \n",
       "2011-07-31  0.000000  0.007492 -0.058744 -0.061966  ... -0.687768  0.000000   \n",
       "...              ...       ...       ...       ...  ...       ...       ...   \n",
       "2022-11-30  0.094667  0.207516 -0.062359 -0.068071  ...  0.199326  0.400570   \n",
       "2022-12-31  0.105968  0.154939  0.056090  0.114783  ...  0.153754  0.116889   \n",
       "2023-01-31 -0.034141  0.352665 -0.112291  0.198128  ... -0.028532 -0.107490   \n",
       "2023-02-28  0.072976  0.138588  0.100000 -0.135417  ...  0.070917 -0.106600   \n",
       "2023-03-31  0.145590  0.311906  0.086247  0.024096  ...  0.047492  0.155116   \n",
       "\n",
       "               وتوکا      سکرد    پکرمان     وغدیر    ولساپا      وصنا  \\\n",
       "date                                                                     \n",
       "2011-03-31  0.403380 -0.035107 -0.024934  0.245639  0.529985 -0.009350   \n",
       "2011-04-30 -0.071859  0.029795 -0.094213 -0.451881 -0.114617 -0.026899   \n",
       "2011-05-31 -0.062716  0.013771 -0.002229  0.234403  0.079271  0.043162   \n",
       "2011-06-30 -0.154130  0.134193 -0.148920 -0.069314 -0.069006  0.112971   \n",
       "2011-07-31  0.141844 -0.090370  0.006999  0.043186 -0.182281 -0.119048   \n",
       "...              ...       ...       ...       ...       ...       ...   \n",
       "2022-11-30  0.234628  0.152672  0.335030  0.218487  0.086344  0.189057   \n",
       "2022-12-31  0.132372  0.134106 -0.007624  0.191223  0.165450  0.035333   \n",
       "2023-01-31 -0.082176 -0.094891  0.137004 -0.047368 -0.021573 -0.060317   \n",
       "2023-02-28  0.392182  0.145161  0.145833  0.236464  0.052632  0.110642   \n",
       "2023-03-31 -0.001812  0.139437  0.091892  0.101877  0.112162 -0.331939   \n",
       "\n",
       "                خلنت      غاذر  \n",
       "date                            \n",
       "2011-03-31  0.000000  0.073421  \n",
       "2011-04-30  0.016115  0.182152  \n",
       "2011-05-31  0.006678  0.118001  \n",
       "2011-06-30  0.055556 -0.459469  \n",
       "2011-07-31  0.238020  0.462938  \n",
       "...              ...       ...  \n",
       "2022-11-30  0.209841  0.185323  \n",
       "2022-12-31  0.158293 -0.070435  \n",
       "2023-01-31 -0.006540  0.069981  \n",
       "2023-02-28  0.030146 -0.068336  \n",
       "2023-03-31  0.147326 -0.000484  \n",
       "\n",
       "[145 rows x 330 columns]"
      ]
     },
     "execution_count": 4,
     "metadata": {},
     "output_type": "execute_result"
    }
   ],
   "source": [
    "final_return_monthly_panel = (price_panel['2011-03-31': ].dropna(axis=1))\n",
    "final_return_monthly_panel"
   ]
  },
  {
   "attachments": {},
   "cell_type": "markdown",
   "metadata": {},
   "source": [
    "# 2. portfolio risk by number of stocks in portfolio"
   ]
  },
  {
   "cell_type": "code",
   "execution_count": 5,
   "metadata": {},
   "outputs": [],
   "source": [
    "#drop 10 top variated stocks\n",
    "dropped_stocks = final_return_monthly_panel.std().sort_values().iloc[-10:].index.to_list()\n",
    "final_return_monthly_panel.drop(dropped_stocks, axis=1, inplace=True)"
   ]
  },
  {
   "cell_type": "code",
   "execution_count": 6,
   "metadata": {},
   "outputs": [],
   "source": [
    "risk = []\n",
    "for N in range(1, 100):\n",
    "    var_ = []\n",
    "    for i in range(100):\n",
    "        list_stocks = random.choices(final_return_monthly_panel.columns, k=N)\n",
    "        weight = np.array([1/N]*N)\n",
    "        weight = weight.reshape(1,N)\n",
    "        weight_t = np.transpose(weight)\n",
    "        cov_corr = final_return_monthly_panel.cov().loc[list_stocks,list_stocks]\n",
    "        var_.append(np.dot(np.dot(weight,cov_corr), weight_t)[0][0])\n",
    "    var = sum(var_)/len(var_)\n",
    "    risk.append(np.sqrt(var) * np.sqrt(12) * 100)"
   ]
  },
  {
   "cell_type": "code",
   "execution_count": 7,
   "metadata": {},
   "outputs": [
    {
     "data": {
      "application/vnd.plotly.v1+json": {
       "config": {
        "plotlyServerURL": "https://plot.ly"
       },
       "data": [
        {
         "hovertemplate": "x=%{x}<br>y=%{y}<extra></extra>",
         "legendgroup": "",
         "line": {
          "color": "#636efa",
          "dash": "solid"
         },
         "marker": {
          "symbol": "circle"
         },
         "mode": "lines",
         "name": "",
         "orientation": "v",
         "showlegend": false,
         "type": "scatter",
         "x": [
          1,
          2,
          3,
          4,
          5,
          6,
          7,
          8,
          9,
          10,
          11,
          12,
          13,
          14,
          15,
          16,
          17,
          18,
          19,
          20,
          21,
          22,
          23,
          24,
          25,
          26,
          27,
          28,
          29,
          30,
          31,
          32,
          33,
          34,
          35,
          36,
          37,
          38,
          39,
          40,
          41,
          42,
          43,
          44,
          45,
          46,
          47,
          48,
          49,
          50,
          51,
          52,
          53,
          54,
          55,
          56,
          57,
          58,
          59,
          60,
          61,
          62,
          63,
          64,
          65,
          66,
          67,
          68,
          69,
          70,
          71,
          72,
          73,
          74,
          75,
          76,
          77,
          78,
          79,
          80,
          81,
          82,
          83,
          84,
          85,
          86,
          87,
          88,
          89,
          90,
          91,
          92,
          93,
          94,
          95,
          96,
          97,
          98,
          99
         ],
         "xaxis": "x",
         "y": [
          72.82318323764241,
          57.390245780677084,
          50.861895591870066,
          48.62643100084635,
          45.15815256385494,
          43.64340008035696,
          42.832013703152334,
          42.02376804274362,
          41.79940811228487,
          41.085956943115846,
          40.36202792175333,
          40.05933251411235,
          39.91272350726538,
          39.489598373572065,
          39.6037992431148,
          39.32710962459438,
          39.2521949897303,
          38.86274424382552,
          38.76064170698604,
          38.280711673100264,
          38.18174771004374,
          38.17233440358613,
          38.251116487977605,
          38.26635093521016,
          38.20700666394771,
          37.63861179270263,
          38.129575775807,
          37.96510161979672,
          37.806839777961635,
          37.48319882473407,
          37.60812762578611,
          37.531496077019426,
          37.353920141502115,
          37.60406921902453,
          37.601908126874136,
          37.13427333252889,
          37.718706220294024,
          37.53895499562136,
          37.47482646737594,
          37.080445296615686,
          36.87394924646913,
          37.4452043877639,
          37.273314656014946,
          37.177726155894284,
          37.11133385188204,
          37.434015546493036,
          36.8984077290174,
          37.20545019256385,
          36.842912464583314,
          37.06354041828897,
          37.132820686419045,
          36.861495968297916,
          36.979007750937825,
          37.00142824145316,
          36.96105500606571,
          37.04068726486972,
          36.680895873234235,
          36.86029122669784,
          36.88183900098373,
          36.76015725054029,
          36.83050066384076,
          36.843249178814226,
          36.71669974962592,
          36.68667945751687,
          36.65123877149172,
          36.79948425781102,
          36.689644542280945,
          36.58414299676893,
          36.721016161198236,
          36.338541183426486,
          36.60196829360857,
          36.71023857807859,
          36.56170101686629,
          36.8944429615549,
          36.824327503405186,
          36.63245909268119,
          36.70651882150448,
          36.526100148883025,
          36.57502062630619,
          36.79175563468989,
          36.70377165259984,
          36.37510271652182,
          36.604248499089834,
          36.485026768876345,
          36.38031050522043,
          36.67431782411917,
          36.45014752272693,
          36.43167934588705,
          36.49914389563589,
          36.49043223311317,
          36.51846723985341,
          36.4369543044074,
          36.436889261799124,
          36.39515303687755,
          36.67824927867713,
          36.50337246915266,
          36.4612350680371,
          36.28354880029872,
          36.36017222179123
         ],
         "yaxis": "y"
        }
       ],
       "layout": {
        "legend": {
         "tracegroupgap": 0
        },
        "template": {
         "data": {
          "bar": [
           {
            "error_x": {
             "color": "#2a3f5f"
            },
            "error_y": {
             "color": "#2a3f5f"
            },
            "marker": {
             "line": {
              "color": "#E5ECF6",
              "width": 0.5
             },
             "pattern": {
              "fillmode": "overlay",
              "size": 10,
              "solidity": 0.2
             }
            },
            "type": "bar"
           }
          ],
          "barpolar": [
           {
            "marker": {
             "line": {
              "color": "#E5ECF6",
              "width": 0.5
             },
             "pattern": {
              "fillmode": "overlay",
              "size": 10,
              "solidity": 0.2
             }
            },
            "type": "barpolar"
           }
          ],
          "carpet": [
           {
            "aaxis": {
             "endlinecolor": "#2a3f5f",
             "gridcolor": "white",
             "linecolor": "white",
             "minorgridcolor": "white",
             "startlinecolor": "#2a3f5f"
            },
            "baxis": {
             "endlinecolor": "#2a3f5f",
             "gridcolor": "white",
             "linecolor": "white",
             "minorgridcolor": "white",
             "startlinecolor": "#2a3f5f"
            },
            "type": "carpet"
           }
          ],
          "choropleth": [
           {
            "colorbar": {
             "outlinewidth": 0,
             "ticks": ""
            },
            "type": "choropleth"
           }
          ],
          "contour": [
           {
            "colorbar": {
             "outlinewidth": 0,
             "ticks": ""
            },
            "colorscale": [
             [
              0,
              "#0d0887"
             ],
             [
              0.1111111111111111,
              "#46039f"
             ],
             [
              0.2222222222222222,
              "#7201a8"
             ],
             [
              0.3333333333333333,
              "#9c179e"
             ],
             [
              0.4444444444444444,
              "#bd3786"
             ],
             [
              0.5555555555555556,
              "#d8576b"
             ],
             [
              0.6666666666666666,
              "#ed7953"
             ],
             [
              0.7777777777777778,
              "#fb9f3a"
             ],
             [
              0.8888888888888888,
              "#fdca26"
             ],
             [
              1,
              "#f0f921"
             ]
            ],
            "type": "contour"
           }
          ],
          "contourcarpet": [
           {
            "colorbar": {
             "outlinewidth": 0,
             "ticks": ""
            },
            "type": "contourcarpet"
           }
          ],
          "heatmap": [
           {
            "colorbar": {
             "outlinewidth": 0,
             "ticks": ""
            },
            "colorscale": [
             [
              0,
              "#0d0887"
             ],
             [
              0.1111111111111111,
              "#46039f"
             ],
             [
              0.2222222222222222,
              "#7201a8"
             ],
             [
              0.3333333333333333,
              "#9c179e"
             ],
             [
              0.4444444444444444,
              "#bd3786"
             ],
             [
              0.5555555555555556,
              "#d8576b"
             ],
             [
              0.6666666666666666,
              "#ed7953"
             ],
             [
              0.7777777777777778,
              "#fb9f3a"
             ],
             [
              0.8888888888888888,
              "#fdca26"
             ],
             [
              1,
              "#f0f921"
             ]
            ],
            "type": "heatmap"
           }
          ],
          "heatmapgl": [
           {
            "colorbar": {
             "outlinewidth": 0,
             "ticks": ""
            },
            "colorscale": [
             [
              0,
              "#0d0887"
             ],
             [
              0.1111111111111111,
              "#46039f"
             ],
             [
              0.2222222222222222,
              "#7201a8"
             ],
             [
              0.3333333333333333,
              "#9c179e"
             ],
             [
              0.4444444444444444,
              "#bd3786"
             ],
             [
              0.5555555555555556,
              "#d8576b"
             ],
             [
              0.6666666666666666,
              "#ed7953"
             ],
             [
              0.7777777777777778,
              "#fb9f3a"
             ],
             [
              0.8888888888888888,
              "#fdca26"
             ],
             [
              1,
              "#f0f921"
             ]
            ],
            "type": "heatmapgl"
           }
          ],
          "histogram": [
           {
            "marker": {
             "pattern": {
              "fillmode": "overlay",
              "size": 10,
              "solidity": 0.2
             }
            },
            "type": "histogram"
           }
          ],
          "histogram2d": [
           {
            "colorbar": {
             "outlinewidth": 0,
             "ticks": ""
            },
            "colorscale": [
             [
              0,
              "#0d0887"
             ],
             [
              0.1111111111111111,
              "#46039f"
             ],
             [
              0.2222222222222222,
              "#7201a8"
             ],
             [
              0.3333333333333333,
              "#9c179e"
             ],
             [
              0.4444444444444444,
              "#bd3786"
             ],
             [
              0.5555555555555556,
              "#d8576b"
             ],
             [
              0.6666666666666666,
              "#ed7953"
             ],
             [
              0.7777777777777778,
              "#fb9f3a"
             ],
             [
              0.8888888888888888,
              "#fdca26"
             ],
             [
              1,
              "#f0f921"
             ]
            ],
            "type": "histogram2d"
           }
          ],
          "histogram2dcontour": [
           {
            "colorbar": {
             "outlinewidth": 0,
             "ticks": ""
            },
            "colorscale": [
             [
              0,
              "#0d0887"
             ],
             [
              0.1111111111111111,
              "#46039f"
             ],
             [
              0.2222222222222222,
              "#7201a8"
             ],
             [
              0.3333333333333333,
              "#9c179e"
             ],
             [
              0.4444444444444444,
              "#bd3786"
             ],
             [
              0.5555555555555556,
              "#d8576b"
             ],
             [
              0.6666666666666666,
              "#ed7953"
             ],
             [
              0.7777777777777778,
              "#fb9f3a"
             ],
             [
              0.8888888888888888,
              "#fdca26"
             ],
             [
              1,
              "#f0f921"
             ]
            ],
            "type": "histogram2dcontour"
           }
          ],
          "mesh3d": [
           {
            "colorbar": {
             "outlinewidth": 0,
             "ticks": ""
            },
            "type": "mesh3d"
           }
          ],
          "parcoords": [
           {
            "line": {
             "colorbar": {
              "outlinewidth": 0,
              "ticks": ""
             }
            },
            "type": "parcoords"
           }
          ],
          "pie": [
           {
            "automargin": true,
            "type": "pie"
           }
          ],
          "scatter": [
           {
            "marker": {
             "colorbar": {
              "outlinewidth": 0,
              "ticks": ""
             }
            },
            "type": "scatter"
           }
          ],
          "scatter3d": [
           {
            "line": {
             "colorbar": {
              "outlinewidth": 0,
              "ticks": ""
             }
            },
            "marker": {
             "colorbar": {
              "outlinewidth": 0,
              "ticks": ""
             }
            },
            "type": "scatter3d"
           }
          ],
          "scattercarpet": [
           {
            "marker": {
             "colorbar": {
              "outlinewidth": 0,
              "ticks": ""
             }
            },
            "type": "scattercarpet"
           }
          ],
          "scattergeo": [
           {
            "marker": {
             "colorbar": {
              "outlinewidth": 0,
              "ticks": ""
             }
            },
            "type": "scattergeo"
           }
          ],
          "scattergl": [
           {
            "marker": {
             "colorbar": {
              "outlinewidth": 0,
              "ticks": ""
             }
            },
            "type": "scattergl"
           }
          ],
          "scattermapbox": [
           {
            "marker": {
             "colorbar": {
              "outlinewidth": 0,
              "ticks": ""
             }
            },
            "type": "scattermapbox"
           }
          ],
          "scatterpolar": [
           {
            "marker": {
             "colorbar": {
              "outlinewidth": 0,
              "ticks": ""
             }
            },
            "type": "scatterpolar"
           }
          ],
          "scatterpolargl": [
           {
            "marker": {
             "colorbar": {
              "outlinewidth": 0,
              "ticks": ""
             }
            },
            "type": "scatterpolargl"
           }
          ],
          "scatterternary": [
           {
            "marker": {
             "colorbar": {
              "outlinewidth": 0,
              "ticks": ""
             }
            },
            "type": "scatterternary"
           }
          ],
          "surface": [
           {
            "colorbar": {
             "outlinewidth": 0,
             "ticks": ""
            },
            "colorscale": [
             [
              0,
              "#0d0887"
             ],
             [
              0.1111111111111111,
              "#46039f"
             ],
             [
              0.2222222222222222,
              "#7201a8"
             ],
             [
              0.3333333333333333,
              "#9c179e"
             ],
             [
              0.4444444444444444,
              "#bd3786"
             ],
             [
              0.5555555555555556,
              "#d8576b"
             ],
             [
              0.6666666666666666,
              "#ed7953"
             ],
             [
              0.7777777777777778,
              "#fb9f3a"
             ],
             [
              0.8888888888888888,
              "#fdca26"
             ],
             [
              1,
              "#f0f921"
             ]
            ],
            "type": "surface"
           }
          ],
          "table": [
           {
            "cells": {
             "fill": {
              "color": "#EBF0F8"
             },
             "line": {
              "color": "white"
             }
            },
            "header": {
             "fill": {
              "color": "#C8D4E3"
             },
             "line": {
              "color": "white"
             }
            },
            "type": "table"
           }
          ]
         },
         "layout": {
          "annotationdefaults": {
           "arrowcolor": "#2a3f5f",
           "arrowhead": 0,
           "arrowwidth": 1
          },
          "autotypenumbers": "strict",
          "coloraxis": {
           "colorbar": {
            "outlinewidth": 0,
            "ticks": ""
           }
          },
          "colorscale": {
           "diverging": [
            [
             0,
             "#8e0152"
            ],
            [
             0.1,
             "#c51b7d"
            ],
            [
             0.2,
             "#de77ae"
            ],
            [
             0.3,
             "#f1b6da"
            ],
            [
             0.4,
             "#fde0ef"
            ],
            [
             0.5,
             "#f7f7f7"
            ],
            [
             0.6,
             "#e6f5d0"
            ],
            [
             0.7,
             "#b8e186"
            ],
            [
             0.8,
             "#7fbc41"
            ],
            [
             0.9,
             "#4d9221"
            ],
            [
             1,
             "#276419"
            ]
           ],
           "sequential": [
            [
             0,
             "#0d0887"
            ],
            [
             0.1111111111111111,
             "#46039f"
            ],
            [
             0.2222222222222222,
             "#7201a8"
            ],
            [
             0.3333333333333333,
             "#9c179e"
            ],
            [
             0.4444444444444444,
             "#bd3786"
            ],
            [
             0.5555555555555556,
             "#d8576b"
            ],
            [
             0.6666666666666666,
             "#ed7953"
            ],
            [
             0.7777777777777778,
             "#fb9f3a"
            ],
            [
             0.8888888888888888,
             "#fdca26"
            ],
            [
             1,
             "#f0f921"
            ]
           ],
           "sequentialminus": [
            [
             0,
             "#0d0887"
            ],
            [
             0.1111111111111111,
             "#46039f"
            ],
            [
             0.2222222222222222,
             "#7201a8"
            ],
            [
             0.3333333333333333,
             "#9c179e"
            ],
            [
             0.4444444444444444,
             "#bd3786"
            ],
            [
             0.5555555555555556,
             "#d8576b"
            ],
            [
             0.6666666666666666,
             "#ed7953"
            ],
            [
             0.7777777777777778,
             "#fb9f3a"
            ],
            [
             0.8888888888888888,
             "#fdca26"
            ],
            [
             1,
             "#f0f921"
            ]
           ]
          },
          "colorway": [
           "#636efa",
           "#EF553B",
           "#00cc96",
           "#ab63fa",
           "#FFA15A",
           "#19d3f3",
           "#FF6692",
           "#B6E880",
           "#FF97FF",
           "#FECB52"
          ],
          "font": {
           "color": "#2a3f5f"
          },
          "geo": {
           "bgcolor": "white",
           "lakecolor": "white",
           "landcolor": "#E5ECF6",
           "showlakes": true,
           "showland": true,
           "subunitcolor": "white"
          },
          "hoverlabel": {
           "align": "left"
          },
          "hovermode": "closest",
          "mapbox": {
           "style": "light"
          },
          "paper_bgcolor": "white",
          "plot_bgcolor": "#E5ECF6",
          "polar": {
           "angularaxis": {
            "gridcolor": "white",
            "linecolor": "white",
            "ticks": ""
           },
           "bgcolor": "#E5ECF6",
           "radialaxis": {
            "gridcolor": "white",
            "linecolor": "white",
            "ticks": ""
           }
          },
          "scene": {
           "xaxis": {
            "backgroundcolor": "#E5ECF6",
            "gridcolor": "white",
            "gridwidth": 2,
            "linecolor": "white",
            "showbackground": true,
            "ticks": "",
            "zerolinecolor": "white"
           },
           "yaxis": {
            "backgroundcolor": "#E5ECF6",
            "gridcolor": "white",
            "gridwidth": 2,
            "linecolor": "white",
            "showbackground": true,
            "ticks": "",
            "zerolinecolor": "white"
           },
           "zaxis": {
            "backgroundcolor": "#E5ECF6",
            "gridcolor": "white",
            "gridwidth": 2,
            "linecolor": "white",
            "showbackground": true,
            "ticks": "",
            "zerolinecolor": "white"
           }
          },
          "shapedefaults": {
           "line": {
            "color": "#2a3f5f"
           }
          },
          "ternary": {
           "aaxis": {
            "gridcolor": "white",
            "linecolor": "white",
            "ticks": ""
           },
           "baxis": {
            "gridcolor": "white",
            "linecolor": "white",
            "ticks": ""
           },
           "bgcolor": "#E5ECF6",
           "caxis": {
            "gridcolor": "white",
            "linecolor": "white",
            "ticks": ""
           }
          },
          "title": {
           "x": 0.05
          },
          "xaxis": {
           "automargin": true,
           "gridcolor": "white",
           "linecolor": "white",
           "ticks": "",
           "title": {
            "standoff": 15
           },
           "zerolinecolor": "white",
           "zerolinewidth": 2
          },
          "yaxis": {
           "automargin": true,
           "gridcolor": "white",
           "linecolor": "white",
           "ticks": "",
           "title": {
            "standoff": 15
           },
           "zerolinecolor": "white",
           "zerolinewidth": 2
          }
         }
        },
        "title": {
         "text": "portfolio risk by number of stocks in portfolio"
        },
        "xaxis": {
         "anchor": "y",
         "domain": [
          0,
          1
         ],
         "title": {
          "text": "x"
         }
        },
        "yaxis": {
         "anchor": "x",
         "domain": [
          0,
          1
         ],
         "title": {
          "text": "y"
         }
        }
       }
      }
     },
     "metadata": {},
     "output_type": "display_data"
    }
   ],
   "source": [
    "px.line(x = range(1, 100), y = risk, title='portfolio risk by number of stocks in portfolio')"
   ]
  }
 ],
 "metadata": {
  "kernelspec": {
   "display_name": "Python 3",
   "language": "python",
   "name": "python3"
  },
  "language_info": {
   "codemirror_mode": {
    "name": "ipython",
    "version": 3
   },
   "file_extension": ".py",
   "mimetype": "text/x-python",
   "name": "python",
   "nbconvert_exporter": "python",
   "pygments_lexer": "ipython3",
   "version": "3.9.12"
  },
  "orig_nbformat": 4
 },
 "nbformat": 4,
 "nbformat_minor": 2
}
