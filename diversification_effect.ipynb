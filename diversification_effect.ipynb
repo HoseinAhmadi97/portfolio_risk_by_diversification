{
 "cells": [
  {
   "cell_type": "code",
   "execution_count": 1,
   "metadata": {},
   "outputs": [],
   "source": [
    "import pytse_client as tse\n",
    "import pandas as pd\n",
    "import numpy as np\n",
    "import random\n",
    "import plotly.express as px"
   ]
  },
  {
   "attachments": {},
   "cell_type": "markdown",
   "metadata": {},
   "source": [
    "# 1. get data"
   ]
  },
  {
   "cell_type": "code",
   "execution_count": 2,
   "metadata": {},
   "outputs": [],
   "source": [
    "tickers = tse.download(symbols=\"all\", write_to_csv=False)"
   ]
  },
  {
   "cell_type": "code",
   "execution_count": 8,
   "metadata": {},
   "outputs": [],
   "source": [
    "price_panel = pd.DataFrame()\n",
    "for ticker in list(tickers.keys()):\n",
    "    df = tickers[ticker]\n",
    "    try:\n",
    "        first_year = df['date'].iloc[0].year\n",
    "        last_year = df['date'].iloc[-1].year\n",
    "        if ticker[-1] == 'ح':\n",
    "            continue\n",
    "        if ((last_year==2023) & ((last_year - first_year) >10)):\n",
    "            return_series_monthly = df.set_index('date').resample('1M').last()['adjClose'].pct_change()\n",
    "            return_series_monthly_df = pd.DataFrame(return_series_monthly.rename(ticker))\n",
    "            price_panel = pd.concat([price_panel, return_series_monthly_df], axis =1)\n",
    "    except:\n",
    "        continue"
   ]
  },
  {
   "cell_type": "code",
   "execution_count": 9,
   "metadata": {},
   "outputs": [
    {
     "data": {
      "text/html": [
       "<div>\n",
       "<style scoped>\n",
       "    .dataframe tbody tr th:only-of-type {\n",
       "        vertical-align: middle;\n",
       "    }\n",
       "\n",
       "    .dataframe tbody tr th {\n",
       "        vertical-align: top;\n",
       "    }\n",
       "\n",
       "    .dataframe thead th {\n",
       "        text-align: right;\n",
       "    }\n",
       "</style>\n",
       "<table border=\"1\" class=\"dataframe\">\n",
       "  <thead>\n",
       "    <tr style=\"text-align: right;\">\n",
       "      <th></th>\n",
       "      <th>شصفها</th>\n",
       "      <th>شسم</th>\n",
       "      <th>وسدید</th>\n",
       "      <th>درازک</th>\n",
       "      <th>سغرب</th>\n",
       "      <th>سبجنو</th>\n",
       "      <th>فسدید</th>\n",
       "      <th>سصوفی</th>\n",
       "      <th>خاذین</th>\n",
       "      <th>ساربیل</th>\n",
       "      <th>...</th>\n",
       "      <th>شاراک</th>\n",
       "      <th>کپارس</th>\n",
       "      <th>فخاس</th>\n",
       "      <th>دعبید</th>\n",
       "      <th>حتاید</th>\n",
       "      <th>دارو</th>\n",
       "      <th>کبافق</th>\n",
       "      <th>کمنگنز</th>\n",
       "      <th>قثابت</th>\n",
       "      <th>خبهمن</th>\n",
       "    </tr>\n",
       "    <tr>\n",
       "      <th>date</th>\n",
       "      <th></th>\n",
       "      <th></th>\n",
       "      <th></th>\n",
       "      <th></th>\n",
       "      <th></th>\n",
       "      <th></th>\n",
       "      <th></th>\n",
       "      <th></th>\n",
       "      <th></th>\n",
       "      <th></th>\n",
       "      <th></th>\n",
       "      <th></th>\n",
       "      <th></th>\n",
       "      <th></th>\n",
       "      <th></th>\n",
       "      <th></th>\n",
       "      <th></th>\n",
       "      <th></th>\n",
       "      <th></th>\n",
       "      <th></th>\n",
       "      <th></th>\n",
       "    </tr>\n",
       "  </thead>\n",
       "  <tbody>\n",
       "    <tr>\n",
       "      <th>2011-03-31</th>\n",
       "      <td>0.100096</td>\n",
       "      <td>-0.071861</td>\n",
       "      <td>0.000000</td>\n",
       "      <td>0.080198</td>\n",
       "      <td>-0.029122</td>\n",
       "      <td>0.000000</td>\n",
       "      <td>0.042553</td>\n",
       "      <td>-0.038829</td>\n",
       "      <td>0.133379</td>\n",
       "      <td>0.003473</td>\n",
       "      <td>...</td>\n",
       "      <td>0.251524</td>\n",
       "      <td>-0.251722</td>\n",
       "      <td>-0.012940</td>\n",
       "      <td>-0.014587</td>\n",
       "      <td>0.012455</td>\n",
       "      <td>0.067514</td>\n",
       "      <td>0.000000</td>\n",
       "      <td>0.305518</td>\n",
       "      <td>0.160920</td>\n",
       "      <td>0.188324</td>\n",
       "    </tr>\n",
       "    <tr>\n",
       "      <th>2011-04-30</th>\n",
       "      <td>0.333333</td>\n",
       "      <td>-0.013826</td>\n",
       "      <td>-0.088836</td>\n",
       "      <td>0.055179</td>\n",
       "      <td>-0.001451</td>\n",
       "      <td>-0.001075</td>\n",
       "      <td>-0.071677</td>\n",
       "      <td>0.090740</td>\n",
       "      <td>-0.050610</td>\n",
       "      <td>0.051011</td>\n",
       "      <td>...</td>\n",
       "      <td>0.169765</td>\n",
       "      <td>0.010879</td>\n",
       "      <td>-0.038824</td>\n",
       "      <td>-0.016356</td>\n",
       "      <td>-0.139795</td>\n",
       "      <td>0.014083</td>\n",
       "      <td>0.000000</td>\n",
       "      <td>-0.093557</td>\n",
       "      <td>-0.045428</td>\n",
       "      <td>-0.085261</td>\n",
       "    </tr>\n",
       "    <tr>\n",
       "      <th>2011-05-31</th>\n",
       "      <td>-0.123797</td>\n",
       "      <td>-0.036251</td>\n",
       "      <td>-0.108037</td>\n",
       "      <td>0.008982</td>\n",
       "      <td>-0.222868</td>\n",
       "      <td>0.000000</td>\n",
       "      <td>-0.126005</td>\n",
       "      <td>-0.233048</td>\n",
       "      <td>-0.241490</td>\n",
       "      <td>0.007280</td>\n",
       "      <td>...</td>\n",
       "      <td>-0.043519</td>\n",
       "      <td>-0.000828</td>\n",
       "      <td>-0.047561</td>\n",
       "      <td>-0.011471</td>\n",
       "      <td>-0.085590</td>\n",
       "      <td>-0.011362</td>\n",
       "      <td>0.479626</td>\n",
       "      <td>-0.025021</td>\n",
       "      <td>-0.125076</td>\n",
       "      <td>-0.011088</td>\n",
       "    </tr>\n",
       "    <tr>\n",
       "      <th>2011-06-30</th>\n",
       "      <td>-0.033949</td>\n",
       "      <td>-0.104946</td>\n",
       "      <td>0.084195</td>\n",
       "      <td>-0.598502</td>\n",
       "      <td>0.150249</td>\n",
       "      <td>-0.081420</td>\n",
       "      <td>-0.074233</td>\n",
       "      <td>-0.109212</td>\n",
       "      <td>-0.147333</td>\n",
       "      <td>0.011014</td>\n",
       "      <td>...</td>\n",
       "      <td>-0.081899</td>\n",
       "      <td>-0.086993</td>\n",
       "      <td>-0.044612</td>\n",
       "      <td>0.011072</td>\n",
       "      <td>-0.138389</td>\n",
       "      <td>-0.119908</td>\n",
       "      <td>0.277552</td>\n",
       "      <td>-0.132838</td>\n",
       "      <td>-0.013947</td>\n",
       "      <td>-0.132796</td>\n",
       "    </tr>\n",
       "    <tr>\n",
       "      <th>2011-07-31</th>\n",
       "      <td>-0.159432</td>\n",
       "      <td>-0.075459</td>\n",
       "      <td>0.053815</td>\n",
       "      <td>0.040062</td>\n",
       "      <td>0.187534</td>\n",
       "      <td>0.008590</td>\n",
       "      <td>0.090126</td>\n",
       "      <td>0.037531</td>\n",
       "      <td>-0.075472</td>\n",
       "      <td>0.026553</td>\n",
       "      <td>...</td>\n",
       "      <td>-0.125835</td>\n",
       "      <td>-0.003630</td>\n",
       "      <td>-0.002498</td>\n",
       "      <td>-0.032431</td>\n",
       "      <td>-0.134488</td>\n",
       "      <td>-0.009867</td>\n",
       "      <td>-0.687768</td>\n",
       "      <td>-0.033967</td>\n",
       "      <td>0.178925</td>\n",
       "      <td>-0.177374</td>\n",
       "    </tr>\n",
       "    <tr>\n",
       "      <th>...</th>\n",
       "      <td>...</td>\n",
       "      <td>...</td>\n",
       "      <td>...</td>\n",
       "      <td>...</td>\n",
       "      <td>...</td>\n",
       "      <td>...</td>\n",
       "      <td>...</td>\n",
       "      <td>...</td>\n",
       "      <td>...</td>\n",
       "      <td>...</td>\n",
       "      <td>...</td>\n",
       "      <td>...</td>\n",
       "      <td>...</td>\n",
       "      <td>...</td>\n",
       "      <td>...</td>\n",
       "      <td>...</td>\n",
       "      <td>...</td>\n",
       "      <td>...</td>\n",
       "      <td>...</td>\n",
       "      <td>...</td>\n",
       "      <td>...</td>\n",
       "    </tr>\n",
       "    <tr>\n",
       "      <th>2022-11-30</th>\n",
       "      <td>0.017112</td>\n",
       "      <td>-0.038236</td>\n",
       "      <td>0.517094</td>\n",
       "      <td>0.169881</td>\n",
       "      <td>0.041712</td>\n",
       "      <td>0.044285</td>\n",
       "      <td>-0.005988</td>\n",
       "      <td>0.159210</td>\n",
       "      <td>0.128474</td>\n",
       "      <td>0.238619</td>\n",
       "      <td>...</td>\n",
       "      <td>0.124954</td>\n",
       "      <td>0.166124</td>\n",
       "      <td>-0.002391</td>\n",
       "      <td>-0.652969</td>\n",
       "      <td>0.129362</td>\n",
       "      <td>0.209953</td>\n",
       "      <td>0.199326</td>\n",
       "      <td>0.074946</td>\n",
       "      <td>0.282662</td>\n",
       "      <td>0.228719</td>\n",
       "    </tr>\n",
       "    <tr>\n",
       "      <th>2022-12-31</th>\n",
       "      <td>0.016003</td>\n",
       "      <td>0.157669</td>\n",
       "      <td>0.526056</td>\n",
       "      <td>0.047096</td>\n",
       "      <td>0.191888</td>\n",
       "      <td>0.102292</td>\n",
       "      <td>0.146586</td>\n",
       "      <td>0.105764</td>\n",
       "      <td>0.285316</td>\n",
       "      <td>0.030015</td>\n",
       "      <td>...</td>\n",
       "      <td>0.115675</td>\n",
       "      <td>0.149441</td>\n",
       "      <td>-0.376872</td>\n",
       "      <td>0.177182</td>\n",
       "      <td>0.086591</td>\n",
       "      <td>0.185090</td>\n",
       "      <td>0.153754</td>\n",
       "      <td>0.126494</td>\n",
       "      <td>0.186102</td>\n",
       "      <td>0.150000</td>\n",
       "    </tr>\n",
       "    <tr>\n",
       "      <th>2023-01-31</th>\n",
       "      <td>0.390549</td>\n",
       "      <td>0.241171</td>\n",
       "      <td>0.200277</td>\n",
       "      <td>0.124438</td>\n",
       "      <td>0.081152</td>\n",
       "      <td>0.006759</td>\n",
       "      <td>0.151489</td>\n",
       "      <td>0.007706</td>\n",
       "      <td>-0.134129</td>\n",
       "      <td>0.285757</td>\n",
       "      <td>...</td>\n",
       "      <td>-0.135493</td>\n",
       "      <td>0.007290</td>\n",
       "      <td>0.042308</td>\n",
       "      <td>-0.009545</td>\n",
       "      <td>-0.029014</td>\n",
       "      <td>0.141540</td>\n",
       "      <td>-0.028532</td>\n",
       "      <td>0.112290</td>\n",
       "      <td>-0.089486</td>\n",
       "      <td>0.028287</td>\n",
       "    </tr>\n",
       "    <tr>\n",
       "      <th>2023-02-28</th>\n",
       "      <td>-0.027592</td>\n",
       "      <td>-0.005974</td>\n",
       "      <td>-0.166090</td>\n",
       "      <td>0.033333</td>\n",
       "      <td>0.130347</td>\n",
       "      <td>0.104828</td>\n",
       "      <td>0.109506</td>\n",
       "      <td>0.167791</td>\n",
       "      <td>0.052610</td>\n",
       "      <td>-0.114477</td>\n",
       "      <td>...</td>\n",
       "      <td>0.196934</td>\n",
       "      <td>0.088058</td>\n",
       "      <td>0.071033</td>\n",
       "      <td>0.160860</td>\n",
       "      <td>0.117530</td>\n",
       "      <td>0.127316</td>\n",
       "      <td>0.070917</td>\n",
       "      <td>0.271065</td>\n",
       "      <td>0.049361</td>\n",
       "      <td>0.009679</td>\n",
       "    </tr>\n",
       "    <tr>\n",
       "      <th>2023-03-31</th>\n",
       "      <td>0.061529</td>\n",
       "      <td>-0.133165</td>\n",
       "      <td>0.142462</td>\n",
       "      <td>0.049677</td>\n",
       "      <td>0.001428</td>\n",
       "      <td>0.075251</td>\n",
       "      <td>0.144620</td>\n",
       "      <td>0.226502</td>\n",
       "      <td>0.111860</td>\n",
       "      <td>0.250718</td>\n",
       "      <td>...</td>\n",
       "      <td>0.090236</td>\n",
       "      <td>0.041020</td>\n",
       "      <td>0.121447</td>\n",
       "      <td>0.059387</td>\n",
       "      <td>0.112299</td>\n",
       "      <td>0.039612</td>\n",
       "      <td>0.047492</td>\n",
       "      <td>0.135710</td>\n",
       "      <td>0.116338</td>\n",
       "      <td>0.029768</td>\n",
       "    </tr>\n",
       "  </tbody>\n",
       "</table>\n",
       "<p>145 rows × 330 columns</p>\n",
       "</div>"
      ],
      "text/plain": [
       "               شصفها       شسم     وسدید     درازک      سغرب     سبجنو  \\\n",
       "date                                                                     \n",
       "2011-03-31  0.100096 -0.071861  0.000000  0.080198 -0.029122  0.000000   \n",
       "2011-04-30  0.333333 -0.013826 -0.088836  0.055179 -0.001451 -0.001075   \n",
       "2011-05-31 -0.123797 -0.036251 -0.108037  0.008982 -0.222868  0.000000   \n",
       "2011-06-30 -0.033949 -0.104946  0.084195 -0.598502  0.150249 -0.081420   \n",
       "2011-07-31 -0.159432 -0.075459  0.053815  0.040062  0.187534  0.008590   \n",
       "...              ...       ...       ...       ...       ...       ...   \n",
       "2022-11-30  0.017112 -0.038236  0.517094  0.169881  0.041712  0.044285   \n",
       "2022-12-31  0.016003  0.157669  0.526056  0.047096  0.191888  0.102292   \n",
       "2023-01-31  0.390549  0.241171  0.200277  0.124438  0.081152  0.006759   \n",
       "2023-02-28 -0.027592 -0.005974 -0.166090  0.033333  0.130347  0.104828   \n",
       "2023-03-31  0.061529 -0.133165  0.142462  0.049677  0.001428  0.075251   \n",
       "\n",
       "               فسدید     سصوفی     خاذین    ساربیل  ...     شاراک     کپارس  \\\n",
       "date                                                ...                       \n",
       "2011-03-31  0.042553 -0.038829  0.133379  0.003473  ...  0.251524 -0.251722   \n",
       "2011-04-30 -0.071677  0.090740 -0.050610  0.051011  ...  0.169765  0.010879   \n",
       "2011-05-31 -0.126005 -0.233048 -0.241490  0.007280  ... -0.043519 -0.000828   \n",
       "2011-06-30 -0.074233 -0.109212 -0.147333  0.011014  ... -0.081899 -0.086993   \n",
       "2011-07-31  0.090126  0.037531 -0.075472  0.026553  ... -0.125835 -0.003630   \n",
       "...              ...       ...       ...       ...  ...       ...       ...   \n",
       "2022-11-30 -0.005988  0.159210  0.128474  0.238619  ...  0.124954  0.166124   \n",
       "2022-12-31  0.146586  0.105764  0.285316  0.030015  ...  0.115675  0.149441   \n",
       "2023-01-31  0.151489  0.007706 -0.134129  0.285757  ... -0.135493  0.007290   \n",
       "2023-02-28  0.109506  0.167791  0.052610 -0.114477  ...  0.196934  0.088058   \n",
       "2023-03-31  0.144620  0.226502  0.111860  0.250718  ...  0.090236  0.041020   \n",
       "\n",
       "                فخاس     دعبید     حتاید      دارو     کبافق    کمنگنز  \\\n",
       "date                                                                     \n",
       "2011-03-31 -0.012940 -0.014587  0.012455  0.067514  0.000000  0.305518   \n",
       "2011-04-30 -0.038824 -0.016356 -0.139795  0.014083  0.000000 -0.093557   \n",
       "2011-05-31 -0.047561 -0.011471 -0.085590 -0.011362  0.479626 -0.025021   \n",
       "2011-06-30 -0.044612  0.011072 -0.138389 -0.119908  0.277552 -0.132838   \n",
       "2011-07-31 -0.002498 -0.032431 -0.134488 -0.009867 -0.687768 -0.033967   \n",
       "...              ...       ...       ...       ...       ...       ...   \n",
       "2022-11-30 -0.002391 -0.652969  0.129362  0.209953  0.199326  0.074946   \n",
       "2022-12-31 -0.376872  0.177182  0.086591  0.185090  0.153754  0.126494   \n",
       "2023-01-31  0.042308 -0.009545 -0.029014  0.141540 -0.028532  0.112290   \n",
       "2023-02-28  0.071033  0.160860  0.117530  0.127316  0.070917  0.271065   \n",
       "2023-03-31  0.121447  0.059387  0.112299  0.039612  0.047492  0.135710   \n",
       "\n",
       "               قثابت     خبهمن  \n",
       "date                            \n",
       "2011-03-31  0.160920  0.188324  \n",
       "2011-04-30 -0.045428 -0.085261  \n",
       "2011-05-31 -0.125076 -0.011088  \n",
       "2011-06-30 -0.013947 -0.132796  \n",
       "2011-07-31  0.178925 -0.177374  \n",
       "...              ...       ...  \n",
       "2022-11-30  0.282662  0.228719  \n",
       "2022-12-31  0.186102  0.150000  \n",
       "2023-01-31 -0.089486  0.028287  \n",
       "2023-02-28  0.049361  0.009679  \n",
       "2023-03-31  0.116338  0.029768  \n",
       "\n",
       "[145 rows x 330 columns]"
      ]
     },
     "execution_count": 9,
     "metadata": {},
     "output_type": "execute_result"
    }
   ],
   "source": [
    "final_return_monthly_panel = (price_panel['2011-03-31': ].dropna(axis=1))\n",
    "final_return_monthly_panel"
   ]
  },
  {
   "attachments": {},
   "cell_type": "markdown",
   "metadata": {},
   "source": [
    "# 2. portfolio risk by number of stocks in portfolio"
   ]
  },
  {
   "cell_type": "code",
   "execution_count": 10,
   "metadata": {},
   "outputs": [],
   "source": [
    "#drop 10 top variated stocks\n",
    "dropped_stocks = final_return_monthly_panel.std().sort_values().iloc[-10:].index.to_list()\n",
    "final_return_monthly_panel.drop(dropped_stocks, axis=1, inplace=True)"
   ]
  },
  {
   "cell_type": "code",
   "execution_count": 6,
   "metadata": {},
   "outputs": [],
   "source": [
    "risk = []\n",
    "for N in range(1, 100):\n",
    "    var_ = []\n",
    "    for i in range(100):\n",
    "        list_stocks = random.choices(final_return_monthly_panel.columns, k=N)\n",
    "        weight = np.array([1/N]*N)\n",
    "        weight = weight.reshape(1,N)\n",
    "        weight_t = np.transpose(weight)\n",
    "        cov_corr = final_return_monthly_panel.cov().loc[list_stocks,list_stocks]\n",
    "        var_.append(np.dot(np.dot(weight,cov_corr), weight_t)[0][0])\n",
    "    var = sum(var_)/len(var_)\n",
    "    risk.append(np.sqrt(var) * np.sqrt(12) * 100)"
   ]
  },
  {
   "cell_type": "code",
   "execution_count": 7,
   "metadata": {},
   "outputs": [
    {
     "data": {
      "application/vnd.plotly.v1+json": {
       "config": {
        "plotlyServerURL": "https://plot.ly"
       },
       "data": [
        {
         "hovertemplate": "x=%{x}<br>y=%{y}<extra></extra>",
         "legendgroup": "",
         "line": {
          "color": "#636efa",
          "dash": "solid"
         },
         "marker": {
          "symbol": "circle"
         },
         "mode": "lines",
         "name": "",
         "orientation": "v",
         "showlegend": false,
         "type": "scatter",
         "x": [
          1,
          2,
          3,
          4,
          5,
          6,
          7,
          8,
          9,
          10,
          11,
          12,
          13,
          14,
          15,
          16,
          17,
          18,
          19,
          20,
          21,
          22,
          23,
          24,
          25,
          26,
          27,
          28,
          29,
          30,
          31,
          32,
          33,
          34,
          35,
          36,
          37,
          38,
          39,
          40,
          41,
          42,
          43,
          44,
          45,
          46,
          47,
          48,
          49,
          50,
          51,
          52,
          53,
          54,
          55,
          56,
          57,
          58,
          59,
          60,
          61,
          62,
          63,
          64,
          65,
          66,
          67,
          68,
          69,
          70,
          71,
          72,
          73,
          74,
          75,
          76,
          77,
          78,
          79,
          80,
          81,
          82,
          83,
          84,
          85,
          86,
          87,
          88,
          89,
          90,
          91,
          92,
          93,
          94,
          95,
          96,
          97,
          98,
          99
         ],
         "xaxis": "x",
         "y": [
          72.55189789544588,
          55.71445948206407,
          50.990854823395594,
          47.064951079788635,
          46.58388854988736,
          43.851448551030245,
          43.39774889107769,
          41.992261144938084,
          41.23254962491451,
          41.17796309259408,
          40.504919259999085,
          40.372283586544135,
          39.94893523833402,
          39.62826481130174,
          39.52034316432695,
          38.69287000301445,
          39.331243941231584,
          38.69232515944193,
          38.897460380690525,
          38.24778757930717,
          38.42516122899294,
          38.08776103429414,
          38.65915874404042,
          38.313019313649264,
          37.88282091109226,
          37.77487744738092,
          37.71378977266867,
          37.592247935198635,
          37.812786756161586,
          37.79042032280924,
          37.713331025469074,
          37.4711826363689,
          37.53544374497176,
          37.98913761951564,
          37.66063466642035,
          37.12355668886756,
          37.542305256571446,
          37.139827695722566,
          37.41512013051537,
          37.44182989596603,
          36.75206947845518,
          37.13663723716938,
          37.59049663144175,
          37.315972330710615,
          37.2567383244816,
          37.114777508284384,
          36.99458906232286,
          36.94158340726,
          37.09859173214603,
          37.023432320798996,
          37.19074221733323,
          36.90758087347764,
          36.937073997144005,
          36.773015681351445,
          36.77512693009757,
          37.019102631464015,
          36.77047817953845,
          36.79444388818087,
          36.873989047545564,
          36.81227422219477,
          36.75502791704011,
          36.961649834664115,
          36.72183041331186,
          36.68129539293816,
          36.83897450459069,
          36.76830447434305,
          36.4841877011586,
          36.72707177748938,
          36.65193197928153,
          36.755355157271694,
          36.82735580472833,
          36.58173266521344,
          36.997753772383895,
          36.63758443770487,
          36.665948045986184,
          36.59770061683522,
          36.59155235514326,
          36.71102128551956,
          36.66995536304226,
          36.51778536719655,
          36.728539917621205,
          36.57250637775517,
          36.77506809393515,
          36.623873480087006,
          36.710239245606616,
          36.72069581582942,
          36.43843738597376,
          36.57215685551327,
          36.48947557018115,
          36.408548493085064,
          36.39837926787436,
          36.606234626814526,
          36.553654363133376,
          36.60747505974709,
          36.48390357063802,
          36.399670770363876,
          36.34111026865258,
          36.41379444128236,
          36.39373693035749
         ],
         "yaxis": "y"
        }
       ],
       "layout": {
        "legend": {
         "tracegroupgap": 0
        },
        "template": {
         "data": {
          "bar": [
           {
            "error_x": {
             "color": "#2a3f5f"
            },
            "error_y": {
             "color": "#2a3f5f"
            },
            "marker": {
             "line": {
              "color": "#E5ECF6",
              "width": 0.5
             },
             "pattern": {
              "fillmode": "overlay",
              "size": 10,
              "solidity": 0.2
             }
            },
            "type": "bar"
           }
          ],
          "barpolar": [
           {
            "marker": {
             "line": {
              "color": "#E5ECF6",
              "width": 0.5
             },
             "pattern": {
              "fillmode": "overlay",
              "size": 10,
              "solidity": 0.2
             }
            },
            "type": "barpolar"
           }
          ],
          "carpet": [
           {
            "aaxis": {
             "endlinecolor": "#2a3f5f",
             "gridcolor": "white",
             "linecolor": "white",
             "minorgridcolor": "white",
             "startlinecolor": "#2a3f5f"
            },
            "baxis": {
             "endlinecolor": "#2a3f5f",
             "gridcolor": "white",
             "linecolor": "white",
             "minorgridcolor": "white",
             "startlinecolor": "#2a3f5f"
            },
            "type": "carpet"
           }
          ],
          "choropleth": [
           {
            "colorbar": {
             "outlinewidth": 0,
             "ticks": ""
            },
            "type": "choropleth"
           }
          ],
          "contour": [
           {
            "colorbar": {
             "outlinewidth": 0,
             "ticks": ""
            },
            "colorscale": [
             [
              0,
              "#0d0887"
             ],
             [
              0.1111111111111111,
              "#46039f"
             ],
             [
              0.2222222222222222,
              "#7201a8"
             ],
             [
              0.3333333333333333,
              "#9c179e"
             ],
             [
              0.4444444444444444,
              "#bd3786"
             ],
             [
              0.5555555555555556,
              "#d8576b"
             ],
             [
              0.6666666666666666,
              "#ed7953"
             ],
             [
              0.7777777777777778,
              "#fb9f3a"
             ],
             [
              0.8888888888888888,
              "#fdca26"
             ],
             [
              1,
              "#f0f921"
             ]
            ],
            "type": "contour"
           }
          ],
          "contourcarpet": [
           {
            "colorbar": {
             "outlinewidth": 0,
             "ticks": ""
            },
            "type": "contourcarpet"
           }
          ],
          "heatmap": [
           {
            "colorbar": {
             "outlinewidth": 0,
             "ticks": ""
            },
            "colorscale": [
             [
              0,
              "#0d0887"
             ],
             [
              0.1111111111111111,
              "#46039f"
             ],
             [
              0.2222222222222222,
              "#7201a8"
             ],
             [
              0.3333333333333333,
              "#9c179e"
             ],
             [
              0.4444444444444444,
              "#bd3786"
             ],
             [
              0.5555555555555556,
              "#d8576b"
             ],
             [
              0.6666666666666666,
              "#ed7953"
             ],
             [
              0.7777777777777778,
              "#fb9f3a"
             ],
             [
              0.8888888888888888,
              "#fdca26"
             ],
             [
              1,
              "#f0f921"
             ]
            ],
            "type": "heatmap"
           }
          ],
          "heatmapgl": [
           {
            "colorbar": {
             "outlinewidth": 0,
             "ticks": ""
            },
            "colorscale": [
             [
              0,
              "#0d0887"
             ],
             [
              0.1111111111111111,
              "#46039f"
             ],
             [
              0.2222222222222222,
              "#7201a8"
             ],
             [
              0.3333333333333333,
              "#9c179e"
             ],
             [
              0.4444444444444444,
              "#bd3786"
             ],
             [
              0.5555555555555556,
              "#d8576b"
             ],
             [
              0.6666666666666666,
              "#ed7953"
             ],
             [
              0.7777777777777778,
              "#fb9f3a"
             ],
             [
              0.8888888888888888,
              "#fdca26"
             ],
             [
              1,
              "#f0f921"
             ]
            ],
            "type": "heatmapgl"
           }
          ],
          "histogram": [
           {
            "marker": {
             "pattern": {
              "fillmode": "overlay",
              "size": 10,
              "solidity": 0.2
             }
            },
            "type": "histogram"
           }
          ],
          "histogram2d": [
           {
            "colorbar": {
             "outlinewidth": 0,
             "ticks": ""
            },
            "colorscale": [
             [
              0,
              "#0d0887"
             ],
             [
              0.1111111111111111,
              "#46039f"
             ],
             [
              0.2222222222222222,
              "#7201a8"
             ],
             [
              0.3333333333333333,
              "#9c179e"
             ],
             [
              0.4444444444444444,
              "#bd3786"
             ],
             [
              0.5555555555555556,
              "#d8576b"
             ],
             [
              0.6666666666666666,
              "#ed7953"
             ],
             [
              0.7777777777777778,
              "#fb9f3a"
             ],
             [
              0.8888888888888888,
              "#fdca26"
             ],
             [
              1,
              "#f0f921"
             ]
            ],
            "type": "histogram2d"
           }
          ],
          "histogram2dcontour": [
           {
            "colorbar": {
             "outlinewidth": 0,
             "ticks": ""
            },
            "colorscale": [
             [
              0,
              "#0d0887"
             ],
             [
              0.1111111111111111,
              "#46039f"
             ],
             [
              0.2222222222222222,
              "#7201a8"
             ],
             [
              0.3333333333333333,
              "#9c179e"
             ],
             [
              0.4444444444444444,
              "#bd3786"
             ],
             [
              0.5555555555555556,
              "#d8576b"
             ],
             [
              0.6666666666666666,
              "#ed7953"
             ],
             [
              0.7777777777777778,
              "#fb9f3a"
             ],
             [
              0.8888888888888888,
              "#fdca26"
             ],
             [
              1,
              "#f0f921"
             ]
            ],
            "type": "histogram2dcontour"
           }
          ],
          "mesh3d": [
           {
            "colorbar": {
             "outlinewidth": 0,
             "ticks": ""
            },
            "type": "mesh3d"
           }
          ],
          "parcoords": [
           {
            "line": {
             "colorbar": {
              "outlinewidth": 0,
              "ticks": ""
             }
            },
            "type": "parcoords"
           }
          ],
          "pie": [
           {
            "automargin": true,
            "type": "pie"
           }
          ],
          "scatter": [
           {
            "marker": {
             "colorbar": {
              "outlinewidth": 0,
              "ticks": ""
             }
            },
            "type": "scatter"
           }
          ],
          "scatter3d": [
           {
            "line": {
             "colorbar": {
              "outlinewidth": 0,
              "ticks": ""
             }
            },
            "marker": {
             "colorbar": {
              "outlinewidth": 0,
              "ticks": ""
             }
            },
            "type": "scatter3d"
           }
          ],
          "scattercarpet": [
           {
            "marker": {
             "colorbar": {
              "outlinewidth": 0,
              "ticks": ""
             }
            },
            "type": "scattercarpet"
           }
          ],
          "scattergeo": [
           {
            "marker": {
             "colorbar": {
              "outlinewidth": 0,
              "ticks": ""
             }
            },
            "type": "scattergeo"
           }
          ],
          "scattergl": [
           {
            "marker": {
             "colorbar": {
              "outlinewidth": 0,
              "ticks": ""
             }
            },
            "type": "scattergl"
           }
          ],
          "scattermapbox": [
           {
            "marker": {
             "colorbar": {
              "outlinewidth": 0,
              "ticks": ""
             }
            },
            "type": "scattermapbox"
           }
          ],
          "scatterpolar": [
           {
            "marker": {
             "colorbar": {
              "outlinewidth": 0,
              "ticks": ""
             }
            },
            "type": "scatterpolar"
           }
          ],
          "scatterpolargl": [
           {
            "marker": {
             "colorbar": {
              "outlinewidth": 0,
              "ticks": ""
             }
            },
            "type": "scatterpolargl"
           }
          ],
          "scatterternary": [
           {
            "marker": {
             "colorbar": {
              "outlinewidth": 0,
              "ticks": ""
             }
            },
            "type": "scatterternary"
           }
          ],
          "surface": [
           {
            "colorbar": {
             "outlinewidth": 0,
             "ticks": ""
            },
            "colorscale": [
             [
              0,
              "#0d0887"
             ],
             [
              0.1111111111111111,
              "#46039f"
             ],
             [
              0.2222222222222222,
              "#7201a8"
             ],
             [
              0.3333333333333333,
              "#9c179e"
             ],
             [
              0.4444444444444444,
              "#bd3786"
             ],
             [
              0.5555555555555556,
              "#d8576b"
             ],
             [
              0.6666666666666666,
              "#ed7953"
             ],
             [
              0.7777777777777778,
              "#fb9f3a"
             ],
             [
              0.8888888888888888,
              "#fdca26"
             ],
             [
              1,
              "#f0f921"
             ]
            ],
            "type": "surface"
           }
          ],
          "table": [
           {
            "cells": {
             "fill": {
              "color": "#EBF0F8"
             },
             "line": {
              "color": "white"
             }
            },
            "header": {
             "fill": {
              "color": "#C8D4E3"
             },
             "line": {
              "color": "white"
             }
            },
            "type": "table"
           }
          ]
         },
         "layout": {
          "annotationdefaults": {
           "arrowcolor": "#2a3f5f",
           "arrowhead": 0,
           "arrowwidth": 1
          },
          "autotypenumbers": "strict",
          "coloraxis": {
           "colorbar": {
            "outlinewidth": 0,
            "ticks": ""
           }
          },
          "colorscale": {
           "diverging": [
            [
             0,
             "#8e0152"
            ],
            [
             0.1,
             "#c51b7d"
            ],
            [
             0.2,
             "#de77ae"
            ],
            [
             0.3,
             "#f1b6da"
            ],
            [
             0.4,
             "#fde0ef"
            ],
            [
             0.5,
             "#f7f7f7"
            ],
            [
             0.6,
             "#e6f5d0"
            ],
            [
             0.7,
             "#b8e186"
            ],
            [
             0.8,
             "#7fbc41"
            ],
            [
             0.9,
             "#4d9221"
            ],
            [
             1,
             "#276419"
            ]
           ],
           "sequential": [
            [
             0,
             "#0d0887"
            ],
            [
             0.1111111111111111,
             "#46039f"
            ],
            [
             0.2222222222222222,
             "#7201a8"
            ],
            [
             0.3333333333333333,
             "#9c179e"
            ],
            [
             0.4444444444444444,
             "#bd3786"
            ],
            [
             0.5555555555555556,
             "#d8576b"
            ],
            [
             0.6666666666666666,
             "#ed7953"
            ],
            [
             0.7777777777777778,
             "#fb9f3a"
            ],
            [
             0.8888888888888888,
             "#fdca26"
            ],
            [
             1,
             "#f0f921"
            ]
           ],
           "sequentialminus": [
            [
             0,
             "#0d0887"
            ],
            [
             0.1111111111111111,
             "#46039f"
            ],
            [
             0.2222222222222222,
             "#7201a8"
            ],
            [
             0.3333333333333333,
             "#9c179e"
            ],
            [
             0.4444444444444444,
             "#bd3786"
            ],
            [
             0.5555555555555556,
             "#d8576b"
            ],
            [
             0.6666666666666666,
             "#ed7953"
            ],
            [
             0.7777777777777778,
             "#fb9f3a"
            ],
            [
             0.8888888888888888,
             "#fdca26"
            ],
            [
             1,
             "#f0f921"
            ]
           ]
          },
          "colorway": [
           "#636efa",
           "#EF553B",
           "#00cc96",
           "#ab63fa",
           "#FFA15A",
           "#19d3f3",
           "#FF6692",
           "#B6E880",
           "#FF97FF",
           "#FECB52"
          ],
          "font": {
           "color": "#2a3f5f"
          },
          "geo": {
           "bgcolor": "white",
           "lakecolor": "white",
           "landcolor": "#E5ECF6",
           "showlakes": true,
           "showland": true,
           "subunitcolor": "white"
          },
          "hoverlabel": {
           "align": "left"
          },
          "hovermode": "closest",
          "mapbox": {
           "style": "light"
          },
          "paper_bgcolor": "white",
          "plot_bgcolor": "#E5ECF6",
          "polar": {
           "angularaxis": {
            "gridcolor": "white",
            "linecolor": "white",
            "ticks": ""
           },
           "bgcolor": "#E5ECF6",
           "radialaxis": {
            "gridcolor": "white",
            "linecolor": "white",
            "ticks": ""
           }
          },
          "scene": {
           "xaxis": {
            "backgroundcolor": "#E5ECF6",
            "gridcolor": "white",
            "gridwidth": 2,
            "linecolor": "white",
            "showbackground": true,
            "ticks": "",
            "zerolinecolor": "white"
           },
           "yaxis": {
            "backgroundcolor": "#E5ECF6",
            "gridcolor": "white",
            "gridwidth": 2,
            "linecolor": "white",
            "showbackground": true,
            "ticks": "",
            "zerolinecolor": "white"
           },
           "zaxis": {
            "backgroundcolor": "#E5ECF6",
            "gridcolor": "white",
            "gridwidth": 2,
            "linecolor": "white",
            "showbackground": true,
            "ticks": "",
            "zerolinecolor": "white"
           }
          },
          "shapedefaults": {
           "line": {
            "color": "#2a3f5f"
           }
          },
          "ternary": {
           "aaxis": {
            "gridcolor": "white",
            "linecolor": "white",
            "ticks": ""
           },
           "baxis": {
            "gridcolor": "white",
            "linecolor": "white",
            "ticks": ""
           },
           "bgcolor": "#E5ECF6",
           "caxis": {
            "gridcolor": "white",
            "linecolor": "white",
            "ticks": ""
           }
          },
          "title": {
           "x": 0.05
          },
          "xaxis": {
           "automargin": true,
           "gridcolor": "white",
           "linecolor": "white",
           "ticks": "",
           "title": {
            "standoff": 15
           },
           "zerolinecolor": "white",
           "zerolinewidth": 2
          },
          "yaxis": {
           "automargin": true,
           "gridcolor": "white",
           "linecolor": "white",
           "ticks": "",
           "title": {
            "standoff": 15
           },
           "zerolinecolor": "white",
           "zerolinewidth": 2
          }
         }
        },
        "title": {
         "text": "portfolio risk by number of stocks in portfolio"
        },
        "xaxis": {
         "anchor": "y",
         "domain": [
          0,
          1
         ],
         "title": {
          "text": "x"
         }
        },
        "yaxis": {
         "anchor": "x",
         "domain": [
          0,
          1
         ],
         "title": {
          "text": "y"
         }
        }
       }
      }
     },
     "metadata": {},
     "output_type": "display_data"
    }
   ],
   "source": [
    "px.line(x = range(1, 100), y = risk, title='portfolio risk by number of stocks in portfolio')"
   ]
  }
 ],
 "metadata": {
  "kernelspec": {
   "display_name": "Python 3",
   "language": "python",
   "name": "python3"
  },
  "language_info": {
   "codemirror_mode": {
    "name": "ipython",
    "version": 3
   },
   "file_extension": ".py",
   "mimetype": "text/x-python",
   "name": "python",
   "nbconvert_exporter": "python",
   "pygments_lexer": "ipython3",
   "version": "3.9.12"
  },
  "orig_nbformat": 4
 },
 "nbformat": 4,
 "nbformat_minor": 2
}
